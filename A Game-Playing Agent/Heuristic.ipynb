{
 "cells": [
  {
   "cell_type": "markdown",
   "metadata": {},
   "source": [
    "### heuristic_analysis\n",
    "\n",
    "Your analysis should conclude with a comparison of the different heuristics and your \n",
    "reasoning for choosing the heuristic you ultimately use in your submitted agent."
   ]
  },
  {
   "cell_type": "markdown",
   "metadata": {},
   "source": [
    "* This script evaluates the performance of the custom_score evaluation\n",
    "function against a baseline agent using alpha-beta search and iterative\n",
    "deepening (ID) called `AB_Improved`. The three `AB_Custom` agents use\n",
    "ID and alpha-beta search with the custom_score functions defined in\n",
    "game_agent.py."
   ]
  },
  {
   "cell_type": "markdown",
   "metadata": {},
   "source": [
    "#### Each code Calculate the heuristic value of a game state from the point of view of the given player.\n"
   ]
  },
  {
   "cell_type": "markdown",
   "metadata": {},
   "source": [
    "```python\n",
    "def custom_score(game, player):\n",
    "    loser_winner(player,game)\n",
    "    player_move = len(game.get_legal_moves(player))\n",
    "    opponent_moves = len(game.get_legal_moves(game.get_opponent(player)))\n",
    "    blank_spaces = len(game.get_blank_spaces())\n",
    "    return float((blank_spaces-opponent_moves)*player_move-opponent_moves)\n",
    "\n",
    "\n",
    "def custom_score_2(game, player):\n",
    "    loser_winner(player,game)\n",
    "    my_moves = len(game.get_legal_moves(player))\n",
    "    opponent_moves = len(game.get_legal_moves(game.get_opponent(player)))\n",
    "    blank_spaces = len(game.get_blank_spaces())\n",
    "    return float(my_moves*(blank_spaces-1) - opponent_moves*(blank_spaces))\n",
    "\n",
    "\n",
    "def custom_score_3(game, player):\n",
    "    loser_winner(player,game)\n",
    "    my_moves = len(game.get_legal_moves(player))\n",
    "    opponent_moves = len(game.get_legal_moves(game.get_opponent(player)))\n",
    "    return float(my_moves - 3*opponent_moves)\n",
    "```"
   ]
  },
  {
   "cell_type": "markdown",
   "metadata": {},
   "source": [
    "___\n",
    "\n",
    "* custom_score is only focus on reducing opponent's move, which is fuinding the gap between player_moves and opponent moves\n",
    "* custom_score_2  is focused to increase my_moves.\n",
    "* custom_score_3 is focused to decrease opponent_moves."
   ]
  },
  {
   "cell_type": "markdown",
   "metadata": {},
   "source": [
    "## Tournament Results"
   ]
  },
  {
   "cell_type": "markdown",
   "metadata": {},
   "source": [
    "![result](ff.png)"
   ]
  },
  {
   "cell_type": "markdown",
   "metadata": {},
   "source": [
    "**Winner: **AB_Custom_3 has the highest win rate: 75.7% followed by AB_Custom_2 with 74.3%\n",
    "\n",
    "we can see custome_2 has better start ar Random with 10 wins and no lost, however it is custom_3 which came back to the game and wins most of the games. \n",
    "\n",
    "also we can expect to have harder opponent in AB games ( Alpha Beta ) in comare to MM (Min Max) and Random, that explains the reason we are having less wins in last 3 games.\n",
    "\n",
    "we have high similarity between all functions except AB_Custom which has the lowest performance \n",
    "\n",
    "### Reasoning for choosing AB_Custom_3: \n",
    "1. Highest Overal **Winning Rate**\n",
    "2. depth: because opp_moves is considered,it is one layer deeper than open_score for the same depth limitation.\n",
    "3. Less Complex in compare to other cutome model."
   ]
  }
 ],
 "metadata": {
  "kernelspec": {
   "display_name": "Python 2",
   "language": "python",
   "name": "python2"
  },
  "language_info": {
   "codemirror_mode": {
    "name": "ipython",
    "version": 2
   },
   "file_extension": ".py",
   "mimetype": "text/x-python",
   "name": "python",
   "nbconvert_exporter": "python",
   "pygments_lexer": "ipython2",
   "version": "2.7.13"
  }
 },
 "nbformat": 4,
 "nbformat_minor": 2
}
